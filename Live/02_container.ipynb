{
 "cells": [
  {
   "cell_type": "markdown",
   "metadata": {},
   "source": [
    "# Einführung in Python-Container für Systemadministratoren\n",
    "\n",
    "Python bietet verschiedene Arten von Containern, die für Systemadministratoren besonders nützlich sind, um Daten zu organisieren und zu verwalten. Die drei Haupttypen sind Listen, Tuples und Dictionaries. Jeder dieser Container hat seine eigenen Eigenschaften und Anwendungsfälle:\n",
    "\n",
    "1. **Listen**: Geordnete, veränderbare Sequenzen von Elementen.\n",
    "2. **Tuples**: Geordnete, unveränderbare Sequenzen von Elementen.\n",
    "3. **Dictionaries**: Ungeordnete Sammlungen von Schlüssel-Wert-Paaren.\n",
    "\n",
    "Diese Container sind besonders nützlich, da sie die Verwaltung von Systeminformationen, Konfigurationen und Datenstrukturen erleichtern. Im folgenden Beispiel werden wir sehen, wie diese Container in typischen Realszenarien eingesetzt werden können.\n"
   ]
  },
  {
   "cell_type": "code",
   "execution_count": null,
   "metadata": {},
   "outputs": [],
   "source": [
    "# Beispiel: Verwaltung von Serverinformationen\n",
    "\n",
    "# Liste von Servern\n",
    "server_liste = ['web01', 'web02', 'db01', 'cache01']\n",
    "\n",
    "# Tuple mit Netzwerkkonfiguration (unveränderbar)\n",
    "netzwerk_config = ('192.168.1.0', '255.255.255.0', '192.168.1.1')\n",
    "\n",
    "# Dictionary mit detaillierten Serverinformationen\n",
    "server_details = {\n",
    "    'web01': {'ip': '192.168.1.10', 'ram': 16, 'cpu': 4},\n",
    "    'web02': {'ip': '192.168.1.11', 'ram': 32, 'cpu': 8},\n",
    "    'db01': {'ip': '192.168.1.20', 'ram': 64, 'cpu': 16},\n",
    "    'cache01': {'ip': '192.168.1.30', 'ram': 8, 'cpu': 2}\n",
    "}"
   ]
  },
  {
   "cell_type": "code",
   "execution_count": null,
   "metadata": {},
   "outputs": [],
   "source": [
    "# Ausgabe der Serverliste\n"
   ]
  },
  {
   "cell_type": "code",
   "execution_count": null,
   "metadata": {},
   "outputs": [],
   "source": [
    "# Zugriff auf Netzwerkkonfiguration\n"
   ]
  },
  {
   "cell_type": "code",
   "execution_count": null,
   "metadata": {},
   "outputs": [],
   "source": [
    "# Ausgabe von Serverdetails\n"
   ]
  },
  {
   "cell_type": "code",
   "execution_count": null,
   "metadata": {},
   "outputs": [],
   "source": [
    "# Beispiel für eine einfache Serverauswahl\n"
   ]
  }
 ],
 "metadata": {
  "language_info": {
   "name": "python"
  }
 },
 "nbformat": 4,
 "nbformat_minor": 2
}
