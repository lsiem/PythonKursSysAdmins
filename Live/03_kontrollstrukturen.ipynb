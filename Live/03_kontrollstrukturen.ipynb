{
 "cells": [
  {
   "cell_type": "markdown",
   "metadata": {},
   "source": [
    "# Einführung in Python-Kontrollstrukturen für Systemadministratoren\n",
    "\n",
    "Kontrollstrukturen sind fundamentale Bausteine in der Programmierung, die es ermöglichen, den Ablauf eines Programms zu steuern. Für Systemadministratoren sind sie besonders wichtig, da sie die Automatisierung von Aufgaben und die Erstellung von flexiblen Skripten ermöglichen. Die Haupttypen von Kontrollstrukturen in Python sind:\n",
    "\n",
    "1. **Bedingte Anweisungen**: if, elif, else\n",
    "2. **Schleifen**: for, while\n",
    "3. **Ausnahmebehandlung**: try, except, finally\n",
    "\n",
    "Diese Strukturen erlauben es, Entscheidungen basierend auf Bedingungen zu treffen, Aktionen zu wiederholen und mit unerwarteten Situationen umzugehen. Im folgenden Beispiel werden wir sehen, wie diese Kontrollstrukturen in einem typischen Szenario der Systemadministration eingesetzt werden können.\n"
   ]
  },
  {
   "cell_type": "code",
   "execution_count": null,
   "metadata": {},
   "outputs": [],
   "source": [
    "\n",
    "# Beispiel: Überprüfung und Verwaltung von Servern\n",
    "\n",
    "# Liste der zu überprüfenden Server\n",
    "server_liste = ['web01', 'web02', 'db01', 'cache01']\n",
    "\n",
    "# Dictionary mit Schwellenwerten für Ressourcennutzung\n",
    "schwellenwerte = {\n",
    "    'cpu_auslastung': 80,  # in Prozent\n",
    "    'speicher_auslastung': 90,  # in Prozent\n",
    "    'festplatten_auslastung': 85  # in Prozent\n",
    "}\n",
    "\n",
    "# Hauptprogramm zur Serverüberprüfung\n",
    "for server in server_liste:\n",
    "    print(f\"\\nÜberprüfe Server: {server}\")\n",
    "    \n",
    "    # Simuliere Servermetriken (in der Praxis würden diese von echten Servern abgerufen)\n",
    "    \n",
    "    # Überprüfe die Metriken des Servers\n",
    "    \n",
    "print(\"\\nServerüberprüfung abgeschlossen.\")\n",
    "\n"
   ]
  },
  {
   "cell_type": "code",
   "execution_count": null,
   "metadata": {},
   "outputs": [],
   "source": []
  }
 ],
 "metadata": {
  "language_info": {
   "name": "python"
  }
 },
 "nbformat": 4,
 "nbformat_minor": 2
}
