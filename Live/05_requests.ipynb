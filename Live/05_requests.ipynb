{
 "cells": [
  {
   "cell_type": "markdown",
   "metadata": {},
   "source": [
    "## Python Requests \n",
    "In diesem Notebook werden wir die Verwendung der 'requests' Bibliothek demonstrieren, \n",
    "um IP-Informationen abzurufen. Dies ist besonders nützlich bei Netzwerkanalysen.\n",
    "Die Dokumentation zur `requests` Bibliothek ist unter https://requests.readthedocs.io/en/latest/ erreichbar."
   ]
  },
  {
   "cell_type": "code",
   "execution_count": null,
   "metadata": {
    "vscode": {
     "languageId": "plaintext"
    }
   },
   "outputs": [],
   "source": [
    "# Importieren der benötigten Bibliothek"
   ]
  },
  {
   "cell_type": "markdown",
   "metadata": {},
   "source": [
    "## Vorbereitung der Daten\n",
    "Wir definieren eine Liste von IP-Adressen, die wir überprüfen möchten. \n",
    "In diesem Beispiel verwenden wir bekannte DNS-Server."
   ]
  },
  {
   "cell_type": "code",
   "execution_count": null,
   "metadata": {
    "vscode": {
     "languageId": "plaintext"
    }
   },
   "outputs": [],
   "source": [
    "# Liste von zu überprüfenden IP-Adressen\n",
    "ip_addresses = [\n",
    "    \"8.8.8.8\",\n",
    "    \"1.1.1.1\",\n",
    "    \"9.9.9.9\",\n",
    "]"
   ]
  },
  {
   "cell_type": "code",
   "execution_count": null,
   "metadata": {
    "vscode": {
     "languageId": "plaintext"
    }
   },
   "outputs": [],
   "source": [
    "# Überprüfung der IP-Adressen\n",
    "response_times = {} # Dictionary, das die IP-Adressen und die dazugehörigen Geschwindigkeiten speichert\n"
   ]
  },
  {
   "cell_type": "code",
   "execution_count": null,
   "metadata": {
    "vscode": {
     "languageId": "plaintext"
    }
   },
   "outputs": [],
   "source": [
    "# Überprüfung der Geschwindigkeit jeder IP-Adresse (https://ipinfo.io/{ip}/json)\n"
   ]
  },
  {
   "cell_type": "code",
   "execution_count": null,
   "metadata": {
    "vscode": {
     "languageId": "plaintext"
    }
   },
   "outputs": [],
   "source": [
    "# Sortieren der IP-Adressen nach Geschwindigkeit und Ausgabe der schnellsten und langsamsten"
   ]
  },
  {
   "cell_type": "code",
   "execution_count": null,
   "metadata": {
    "vscode": {
     "languageId": "plaintext"
    }
   },
   "outputs": [],
   "source": []
  }
 ],
 "metadata": {
  "language_info": {
   "name": "python"
  }
 },
 "nbformat": 4,
 "nbformat_minor": 2
}
