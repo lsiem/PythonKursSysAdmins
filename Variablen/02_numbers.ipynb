{
  "cells": [
    {
      "cell_type": "markdown",
      "metadata": {},
      "source": [
        "# [Zahlen (Numbers)](https://docs.python.org/3/library/stdtypes.html#numeric-types-int-float-complex)\n",
        "\n",
        "In der Systemadministration werden Zahlen häufig für Berechnungen, Statistiken und Performancemessungen verwendet."
      ]
    },
    {
      "cell_type": "markdown",
      "metadata": {},
      "source": [
        "## `int` (Ganzzahl)\n",
        "\n",
        "Ganzzahlen werden in der Systemadministration oft für Zählungen, Indexierungen und einfache Berechnungen verwendet."
      ]
    },
    {
      "cell_type": "code",
      "execution_count": null,
      "metadata": {},
      "outputs": [],
      "source": [
        "anzahl_server = 6\n",
        "print(f\"Wert: {anzahl_server}, Typ: {type(anzahl_server)}\")"
      ]
    },
    {
      "cell_type": "markdown",
      "metadata": {},
      "source": [
        "# Umgang mit sehr großen Zahlen\n",
        "\n",
        "In der Systemadministration kann es vorkommen, dass man mit sehr großen Zahlen arbeiten muss, z.B. bei der Verwaltung von Speicherplatz oder der Analyse von Netzwerkdaten. Python bietet eine praktische Möglichkeit, große Zahlen lesbarer zu gestalten, indem Unterstriche als visuelle Trennzeichen verwendet werden.\n"
      ]
    },
    {
      "cell_type": "code",
      "execution_count": 4,
      "metadata": {},
      "outputs": [
        {
          "name": "stdout",
          "output_type": "stream",
          "text": [
            "Große Zahl ohne Unterstriche: 1000000000\n",
            "Dieselbe Zahl mit Unterstrichen: 1000000000\n",
            "Beide Zahlen sind gleich: True\n",
            "\n",
            "Verfügbarer Speicherplatz:\n",
            "250 GB = 268_435_456_000 Bytes\n",
            "\n",
            "IP-Adresse als Ganzzahl: 19216801\n"
          ]
        }
      ],
      "source": [
        "# Beispiel für eine große Zahl ohne Unterstriche\n",
        "grosse_zahl = 1000000000  # 1 Milliarde\n",
        "\n",
        "# Dieselbe Zahl mit Unterstrichen für bessere Lesbarkeit\n",
        "lesbare_grosse_zahl = 1_000_000_000\n",
        "\n",
        "print(f\"Große Zahl ohne Unterstriche: {grosse_zahl}\")\n",
        "print(f\"Dieselbe Zahl mit Unterstrichen: {lesbare_grosse_zahl}\")\n",
        "print(f\"Beide Zahlen sind gleich: {grosse_zahl == lesbare_grosse_zahl}\") # \"==\" ist der Gleichheitsoperator (Vergleichsoperator). Dieser Vergleichsoperator prüft, ob die Werte auf beiden Seiten gleich sind. Operatoren werden wir später genauer betrachten.\n",
        "\n",
        "# Praktisches Beispiel: Berechnung des verfügbaren Speicherplatzes\n",
        "bytes_pro_gb = 1_073_741_824  # 1 GB in Bytes\n",
        "verfuegbare_gbs = 250\n",
        "verfuegbare_bytes = verfuegbare_gbs * bytes_pro_gb\n",
        "\n",
        "print(f\"\\nVerfügbarer Speicherplatz:\")\n",
        "print(f\"{verfuegbare_gbs} GB = {verfuegbare_bytes:_} Bytes\")\n",
        "\n",
        "# Die Unterstriche können an beliebigen Stellen eingefügt werden\n",
        "ip_adresse = 192_168_0_1\n",
        "print(f\"\\nIP-Adresse als Ganzzahl: {ip_adresse}\")\n"
      ]
    },
    {
      "cell_type": "markdown",
      "metadata": {},
      "source": [
        "## `float` (Gleitkommazahl)\n",
        "\n",
        "Gleitkommazahlen werden in der Systemadministration für präzise Messungen und Berechnungen verwendet, z.B. bei der Analyse von Ressourcennutzung."
      ]
    },
    {
      "cell_type": "code",
      "execution_count": null,
      "metadata": {},
      "outputs": [],
      "source": [
        "cpu_auslastung = 75.5\n",
        "print(f\"Wert: {cpu_auslastung}, Typ: {type(cpu_auslastung)}\")"
      ]
    },
    {
      "cell_type": "markdown",
      "metadata": {},
      "source": [
        "Beachte, dass die Division von `int`s eine `float` ergibt:\n",
        "\n",
        "Dies ist wichtig bei Berechnungen, z.B. bei der Ermittlung von Durchschnittswerten."
      ]
    },
    {
      "cell_type": "code",
      "execution_count": null,
      "metadata": {},
      "outputs": [],
      "source": [
        "gesamter_speicher = 16  # GB\n",
        "genutzter_speicher = 12  # GB\n",
        "speicherauslastung = genutzter_speicher / gesamter_speicher\n",
        "print(f\"Speicherauslastung: {speicherauslastung:.2%}\")"
      ]
    },
    {
      "cell_type": "markdown",
      "metadata": {},
      "source": [
        "Es gibt eine Fall bei binären Gleitkommazahlen (siehe [Decimal](#decimal) für eine Lösung):\n",
        "\n",
        "In der Systemadministration kann dies bei präzisen Berechnungen, z.B. bei Ressourcenzuweisungen, wichtig sein."
      ]
    },
    {
      "cell_type": "code",
      "execution_count": 1,
      "metadata": {},
      "outputs": [
        {
          "name": "stdout",
          "output_type": "stream",
          "text": [
            "Ist die Bandbreite genau 0.3 Gbps? False\n",
            "Tatsächlicher Wert: 0.30000000000000004\n"
          ]
        }
      ],
      "source": [
        "bandbreite = 0.1 + 0.1 + 0.1  # Theoretisch 0.3 Gbps\n",
        "print(f\"Ist die Bandbreite genau 0.3 Gbps? {bandbreite == 0.3}\")\n",
        "print(f\"Tatsächlicher Wert: {bandbreite}\")"
      ]
    },
    {
      "cell_type": "markdown",
      "metadata": {},
      "source": [
        "## Ganzzahldivision `//`, Modulo `%`, Potenz `**`\n",
        "\n",
        "Diese Operatoren sind in der Systemadministration nützlich für verschiedene Berechnungen und Algorithmen."
      ]
    },
    {
      "cell_type": "code",
      "execution_count": null,
      "metadata": {},
      "outputs": [],
      "source": [
        "# Ganzzahldivision (nützlich für Gruppierung oder Partitionierung)\n",
        "gesamte_festplattengroesse = 1000  # GB\n",
        "partition_groesse = 250  # GB\n",
        "anzahl_partitionen = gesamte_festplattengroesse // partition_groesse\n",
        "print(f\"Anzahl vollständiger Partitionen: {anzahl_partitionen}\")"
      ]
    },
    {
      "cell_type": "code",
      "execution_count": null,
      "metadata": {},
      "outputs": [],
      "source": [
        "# Modulo (nützlich für zyklische Prozesse oder Lastverteilung)\n",
        "anzahl_server = 5\n",
        "aktueller_request = 17\n",
        "server_index = aktueller_request % anzahl_server\n",
        "print(f\"Request {aktueller_request} wird an Server {server_index} gesendet\")"
      ]
    },
    {
      "cell_type": "code",
      "execution_count": null,
      "metadata": {},
      "outputs": [],
      "source": [
        "# Potenz (nützlich für Kapazitätsberechnungen oder Skalierung)\n",
        "basis_kapazitaet = 2  # TB\n",
        "skalierungsfaktor = 3\n",
        "skalierte_kapazitaet = basis_kapazitaet ** skalierungsfaktor\n",
        "print(f\"Skalierte Speicherkapazität: {skalierte_kapazitaet} TB\")"
      ]
    },
    {
      "cell_type": "markdown",
      "metadata": {},
      "source": [
        "# Nützliche Funktionen für Zahlen\n",
        "\n",
        "In der Praxis sind einige eingebaute Funktionen und Methoden für die Arbeit mit Zahlen besonders nützlich:\n",
        "\n",
        "## `round()` - Runden von Zahlen\n",
        "\n",
        "Die `round()`-Funktion rundet eine Zahl auf die nächste ganze Zahl oder auf eine bestimmte Anzahl von Dezimalstellen.\n",
        "\n"
      ]
    },
    {
      "cell_type": "code",
      "execution_count": 2,
      "metadata": {},
      "outputs": [
        {
          "name": "stdout",
          "output_type": "stream",
          "text": [
            "Gerundete CPU-Auslastung: 76%\n",
            "Gerundete Speichernutzung: 8.35 GB\n",
            "Gerundete Temperatur: -4°C\n",
            "2.5 gerundet: 2\n",
            "3.5 gerundet: 4\n",
            "Durchschnittliche Antwortzeit: 0.047 Sekunden\n"
          ]
        }
      ],
      "source": [
        "cpu_auslastung = 75.6\n",
        "gerundete_auslastung = round(cpu_auslastung) # Runden auf die nächste ganze Zahl\n",
        "print(f\"Gerundete CPU-Auslastung: {gerundete_auslastung}%\")\n",
        "\n",
        "# Runden auf eine bestimmte Anzahl von Dezimalstellen\n",
        "speichernutzung = 8.3456\n",
        "gerundete_speichernutzung = round(speichernutzung, 2) # Runden auf 2 Dezimalstellen\n",
        "print(f\"Gerundete Speichernutzung: {gerundete_speichernutzung} GB\")\n",
        "\n",
        "# Runden von negativen Zahlen\n",
        "temperatur = -3.7\n",
        "gerundete_temperatur = round(temperatur) # Runden auf die nächste ganze Zahl\n",
        "print(f\"Gerundete Temperatur: {gerundete_temperatur}°C\")\n",
        "\n",
        "# Runden bei .5 (beachte: round() rundet zur nächsten geraden Zahl)\n",
        "wert1 = round(2.5)\n",
        "wert2 = round(3.5)\n",
        "print(f\"2.5 gerundet: {wert1}\")\n",
        "print(f\"3.5 gerundet: {wert2}\")\n",
        "\n",
        "# Praktisches Beispiel: Durchschnittliche Antwortzeit eines Servers\n",
        "antwortzeiten = [0.023, 0.045, 0.067, 0.089, 0.012] # Dies ist eine Liste von Antwortzeiten in Sekunden. Listen werden wir später genauer betrachten.\n",
        "durchschnitt = sum(antwortzeiten) / len(antwortzeiten) # sum() ist eine Funktion, die die Summe der Elemente in der Liste berechnet. len() ist eine Funktion, die die Anzahl der Elemente in der Liste berechnet. Das Ergebnis wird durch die Anzahl der Elemente dividiert, um den Durchschnitt zu ermitteln.\n",
        "gerundeter_durchschnitt = round(durchschnitt, 3) # Runden auf 3 Dezimalstellen\n",
        "print(f\"Durchschnittliche Antwortzeit: {gerundeter_durchschnitt} Sekunden\")\n"
      ]
    },
    {
      "cell_type": "markdown",
      "metadata": {},
      "source": [
        "## `abs()` - Absolutwert einer Zahl\n",
        "\n",
        "Die `abs()`-Funktion gibt den Absolutwert (Betrag) einer Zahl zurück. Der Absolutwert ist immer positiv oder null, unabhängig davon, ob die Eingabe positiv oder negativ ist.\n",
        "\n",
        "Beispiele für die Verwendung von `abs()`:\n"
      ]
    },
    {
      "cell_type": "code",
      "execution_count": null,
      "metadata": {},
      "outputs": [],
      "source": [
        "# Beispiele für die Verwendung von abs()\n",
        "\n",
        "# Absolutwert einer positiven Zahl\n",
        "positive_zahl = 5.7\n",
        "abs_positive = abs(positive_zahl)\n",
        "print(f\"Absolutwert von {positive_zahl}: {abs_positive}\")\n",
        "\n",
        "# Absolutwert einer negativen Zahl\n",
        "negative_zahl = -3.2\n",
        "abs_negative = abs(negative_zahl) \n",
        "print(f\"Absolutwert von {negative_zahl}: {abs_negative}\") \n",
        "\n",
        "# Praktisches Beispiel: Berechnung der Abweichung vom Sollwert\n",
        "sollwert_temperatur = 20.0  # °C\n",
        "ist_temperatur = 18.5  # °C\n",
        "abweichung = abs(sollwert_temperatur - ist_temperatur)\n",
        "print(f\"Abweichung von der Solltemperatur: {abweichung:.1f}°C\")\n",
        "\n",
        "# Beispiel mit komplexen Zahlen (siehe unten)\n",
        "complex_num = 3 + 4j # 3 + 4i (i ist die imaginäre Einheit)\n",
        "abs_complex = abs(complex_num) \n",
        "print(f\"Betrag der komplexen Zahl {complex_num}: {abs_complex}\")\n",
        "\n",
        "# Praktisches Beispiel: Berechnung der Netzwerklatenz\n",
        "ping_zeit = -15  # ms (negative Werte können durch Messfehler entstehen)\n",
        "latenz = abs(ping_zeit)\n",
        "print(f\"Korrigierte Netzwerklatenz: {latenz} ms\")\n"
      ]
    },
    {
      "cell_type": "markdown",
      "metadata": {},
      "source": [
        "## `math.ceil()` und `math.floor()` - Aufrunden und Abrunden\n",
        "\n",
        "Die Funktionen `math.ceil()` und `math.floor()` aus dem `math`-Modul sind nützlich für das Auf- und Abrunden von Zahlen auf die nächste ganze Zahl.\n",
        "\n",
        "- `math.ceil()` rundet eine Zahl immer auf die nächsthöhere ganze Zahl auf.\n",
        "- `math.floor()` rundet eine Zahl immer auf die nächstniedrigere ganze Zahl ab.\n",
        "\n",
        "Beispiele für die Verwendung von `math.ceil()` und `math.floor()`:\n"
      ]
    },
    {
      "cell_type": "code",
      "execution_count": 3,
      "metadata": {},
      "outputs": [
        {
          "name": "stdout",
          "output_type": "stream",
          "text": [
            "Beispiele für math.ceil():\n",
            "math.ceil(3.2): 4\n",
            "math.ceil(3.7): 4\n",
            "math.ceil(-3.2): -3\n",
            "\n",
            "Beispiele für math.floor():\n",
            "math.floor(3.2): 3\n",
            "math.floor(3.7): 3\n",
            "math.floor(-3.2): -4\n",
            "\n",
            "Benötigte Festplatten für 2.3 TB: 3\n",
            "Vollständig genutzte Festplatten bei 4.7 TB: 4\n"
          ]
        }
      ],
      "source": [
        "import math # importiere das math-Modul (Das importieren von Modulen wird später genauer betrachtet)\n",
        "\n",
        "# Beispiele für math.ceil() (Aufrunden)\n",
        "print(\"Beispiele für math.ceil():\")\n",
        "print(f\"math.ceil(3.2): {math.ceil(3.2)}\")\n",
        "print(f\"math.ceil(3.7): {math.ceil(3.7)}\")\n",
        "print(f\"math.ceil(-3.2): {math.ceil(-3.2)}\")\n",
        "\n",
        "# Beispiele für math.floor() (Abrunden)\n",
        "print(\"\\nBeispiele für math.floor():\")\n",
        "print(f\"math.floor(3.2): {math.floor(3.2)}\")\n",
        "print(f\"math.floor(3.7): {math.floor(3.7)}\")\n",
        "print(f\"math.floor(-3.2): {math.floor(-3.2)}\")\n",
        "\n",
        "# Praktisches Beispiel: Berechnung der benötigten Festplattenanzahl\n",
        "benoetigter_speicherplatz = 2.3  # TB\n",
        "festplatten_groesse = 1  # TB\n",
        "anzahl_festplatten = math.ceil(benoetigter_speicherplatz / festplatten_groesse)\n",
        "print(f\"\\nBenötigte Festplatten für {benoetigter_speicherplatz} TB: {anzahl_festplatten}\")\n",
        "\n",
        "# Praktisches Beispiel: Berechnung der vollständig genutzten Festplatten\n",
        "genutzer_speicherplatz = 4.7  # TB\n",
        "volle_festplatten = math.floor(genutzer_speicherplatz / festplatten_groesse)\n",
        "print(f\"Vollständig genutzte Festplatten bei {genutzer_speicherplatz} TB: {volle_festplatten}\")\n"
      ]
    },
    {
      "cell_type": "markdown",
      "metadata": {},
      "source": [
        "<a id='decimal'></a>\n",
        "## [`decimal.Decimal`](https://docs.python.org/3/library/decimal.html)\n",
        "\n",
        "Für präzise Berechnungen, insbesondere im Finanzbereich oder bei genauen wissenschaftlichen Berechnungen, ist das `decimal`-Modul nützlich."
      ]
    },
    {
      "cell_type": "code",
      "execution_count": null,
      "metadata": {},
      "outputs": [],
      "source": [
        "from decimal import Decimal\n",
        "\n",
        "bandwidth_float = 0.1 + 0.1 + 0.1\n",
        "bandwidth_decimal = Decimal(\"0.1\") + Decimal(\"0.1\") + Decimal(\"0.1\")\n",
        "\n",
        "print(f\"Float-Berechnung: {bandwidth_float}\")\n",
        "print(f\"Decimal-Berechnung: {bandwidth_decimal}\")\n",
        "print(f\"Ist Decimal-Ergebnis genau 0.3? {bandwidth_decimal == Decimal('0.3')}\")"
      ]
    },
    {
      "cell_type": "markdown",
      "metadata": {},
      "source": [
        "## Komplexe Zahlen (`complex`)\n",
        "\n",
        "Obwohl in der Systemadministration seltener verwendet, sind komplexe Zahlen in Python verfügbar und können in bestimmten Szenarien nützlich sein, z.B. bei der Signalverarbeitung oder in wissenschaftlichen Berechnungen.\n",
        "\n",
        "Komplexe Zahlen bestehen aus einem Realteil und einem Imaginärteil und werden in der Form `a` + `bj` dargestellt, wobei `j` die imaginäre Einheit ist.\n"
      ]
    },
    {
      "cell_type": "code",
      "execution_count": 1,
      "metadata": {},
      "outputs": [
        {
          "name": "stdout",
          "output_type": "stream",
          "text": [
            "Komplexe Zahl: (3+4j)\n",
            "Realteil: 3.0\n",
            "Imaginärteil: 4.0\n",
            "Betrag: 5.0\n"
          ]
        }
      ],
      "source": [
        "complex_number = 3 + 4j # 3 + 4i (i ist die imaginäre Einheit)\n",
        "print(f\"Komplexe Zahl: {complex_number}\")\n",
        "print(f\"Realteil: {complex_number.real}\")\n",
        "print(f\"Imaginärteil: {complex_number.imag}\")\n",
        "print(f\"Betrag: {abs(complex_number)}\")"
      ]
    },
    {
      "cell_type": "markdown",
      "metadata": {},
      "source": [
        "## Operator-Präzedenz in Berechnungen\n",
        "Die mathematische Operator-Präzedenz gilt auch in Python. Verwende Klammern, wenn die Ausführungsreihenfolge geändert werden soll:"
      ]
    },
    {
      "cell_type": "code",
      "execution_count": null,
      "metadata": {},
      "outputs": [],
      "source": [
        "# Beispiel: Berechnung der durchschnittlichen CPU-Auslastung\n",
        "cpu_1, cpu_2, cpu_3 = 80, 65, 90\n",
        "anzahl_cpus = 3\n",
        "\n",
        "durchschnitt_falsch = cpu_1 + cpu_2 + cpu_3 / anzahl_cpus\n",
        "durchschnitt_richtig = (cpu_1 + cpu_2 + cpu_3) / anzahl_cpus\n",
        "\n",
        "print(f\"Falsche Berechnung: {durchschnitt_falsch}\")\n",
        "print(f\"Richtige Berechnung: {durchschnitt_richtig}\")"
      ]
    }
  ],
  "metadata": {
    "kernelspec": {
      "display_name": "Python 3",
      "language": "python",
      "name": "python3"
    },
    "language_info": {
      "codemirror_mode": {
        "name": "ipython",
        "version": 3
      },
      "file_extension": ".py",
      "mimetype": "text/x-python",
      "name": "python",
      "nbconvert_exporter": "python",
      "pygments_lexer": "ipython3",
      "version": "3.12.5"
    }
  },
  "nbformat": 4,
  "nbformat_minor": 4
}
