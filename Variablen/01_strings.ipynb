{
  "cells": [
    {
      "cell_type": "markdown",
      "metadata": {},
      "source": [
        "# [Zeichenketten (Strings)](https://docs.python.org/3/library/stdtypes.html#text-sequence-type-str)\n",
        "\n",
        "Zeichenketten sind in der Systemadministration sehr nützlich für die Verarbeitung von Logdateien, Konfigurationsdateien und Ausgaben von Systembefehlen."
      ]
    },
    {
      "cell_type": "code",
      "execution_count": 7,
      "metadata": {},
      "outputs": [
        {
          "name": "stdout",
          "output_type": "stream",
          "text": [
            "Willkommen zum Python Kurs von Lasse!\n"
          ]
        }
      ],
      "source": [
        "mein_string = \"Willkommen zum Python Kurs von Lasse!\"\n",
        "\n",
        "# Dies ist ein Kommentar. Kommentare werden von Python ignoriert und dienen nur der Information. \n",
        "# Kommentare werden mit einem # am Anfang der Zeile geschrieben.\n",
        "# Kommentare werden auch oft verwendet, um einzelne Code-Zeilen zu kommentieren.\n",
        "# Für mehrzeilige Kommentare sollte man Docstrings verwenden.\n",
        "\"\"\"\n",
        "Dies ist ein Docstring. Docstrings werden von Python ignoriert und dienen nur der Information.\n",
        "Docstrings werden mit einem \\\"\"\" am Anfang und einem \\\"\"\" am Ende geschrieben.\n",
        "Die Dokumentation sollte keine Erklärung für jeden einzelnen Code-Block geben, sondern nur wichtige Informationen und Hinweise für den Code geben.\n",
        "Dokumentation sollte immer auf Englisch sein.\n",
        "\"\"\"\n",
        "\n",
        "# In diesem Kurs werde ich Kommentare falsch verwenden, um die Inhalte zu erklären.\n",
        "# In einem professionellen Umfeld sollte man Kommentare nur verwenden, wenn es wirklich notwendig ist.\n",
        "\n",
        "print(mein_string) # Gibt den Wert des Strings aus"
      ]
    },
    {
      "cell_type": "code",
      "execution_count": 8,
      "metadata": {},
      "outputs": [
        {
          "name": "stdout",
          "output_type": "stream",
          "text": [
            "Typ: <class 'str'>\n",
            "Länge: 37\n"
          ]
        }
      ],
      "source": [
        "print(f\"Typ: {type(mein_string)}\") # Gibt den Typ des Strings aus\n",
        "print(f\"Länge: {len(mein_string)}\") # Gibt die Länge des Strings aus"
      ]
    },
    {
      "cell_type": "markdown",
      "metadata": {},
      "source": [
        "## Grundlegende String-Operationen"
      ]
    },
    {
      "cell_type": "markdown",
      "metadata": {},
      "source": [
        "### Indexierung und Slicing\n",
        "\n",
        "Indexierung und Slicing sind grundlegende Operationen, die in der Systemadministration häufig verwendet werden, um bestimmte Teile eines Strings zu extrahieren oder zu manipulieren.\n"
      ]
    },
    {
      "cell_type": "code",
      "execution_count": 5,
      "metadata": {},
      "outputs": [
        {
          "name": "stdout",
          "output_type": "stream",
          "text": [
            "Erstes Zeichen: 2\n",
            "Letztes Zeichen: l\n",
            "Datum: 2023-05-15\n",
            "Uhrzeit: 10:30:15\n",
            "Fehlertyp: ERROR\n",
            "Fehler: Festplatte voll\n"
          ]
        }
      ],
      "source": [
        "log_eintrag = \"2023-05-15 10:30:15 ERROR: Festplatte voll\"\n",
        "print(f\"Erstes Zeichen: {log_eintrag[0]}\") # Gibt das erste Zeichen des Strings aus\n",
        "print(f\"Letztes Zeichen: {log_eintrag[-1]}\") # Gibt das letzte Zeichen des Strings aus\n",
        "print(f\"Datum: {log_eintrag[:10]}\") # Gibt den Teil des Strings vom Anfang bis zum 10. Zeichen aus\n",
        "print(f\"Uhrzeit: {log_eintrag[11:19]}\") # Gibt den Teil des Strings vom 11. bis zum 19. Zeichen aus\n",
        "print(f\"Fehlertyp: {log_eintrag[20:25]}\") # Gibt den Teil des Strings vom 20. bis zum 25. Zeichen aus\n",
        "print(f\"Fehler: {log_eintrag[27:]}\") # Gibt den Teil des Strings vom 27. Zeichen bis zum Ende aus"
      ]
    },
    {
      "cell_type": "markdown",
      "metadata": {},
      "source": [
        "### Einhaltung von [PEP8](https://www.python.org/dev/peps/pep-0008/#maximum-line-length) bei langen Zeichenketten\n",
        "\n",
        "In der Systemadministration können lange Zeichenketten beispielsweise bei der Erstellung von Konfigurationsdateien oder Skripten vorkommen."
      ]
    },
    {
      "cell_type": "code",
      "execution_count": 1,
      "metadata": {},
      "outputs": [
        {
          "name": "stdout",
          "output_type": "stream",
          "text": [
            "Dies ist ein Beispiel für eine lange Zeichenkette, die in der Systemadministration vorkommen könnte. Sie könnte beispielsweise eine komplexe Konfiguration oder einen langen Befehl darstellen.Ein String kann auch Sonderzeichen enthalten. !@#$%^&*()_+-=[]{}|;:,.<>? und viele mehr.\n"
          ]
        }
      ],
      "source": [
        "lange_zeichenkette = (\n",
        "    \"Dies ist ein Beispiel für eine lange Zeichenkette, \"\n",
        "    \"die in der Systemadministration vorkommen könnte. \"\n",
        "    \"Sie könnte beispielsweise eine komplexe Konfiguration \"\n",
        "    \"oder einen langen Befehl darstellen.\"\n",
        "    \"Ein String kann auch Sonderzeichen enthalten. !@#$%^&*()_+-=[]{}|;:,.<>? \"\n",
        "    \"und viele mehr.\"\n",
        ")\n",
        "print(lange_zeichenkette)"
      ]
    },
    {
      "cell_type": "markdown",
      "metadata": {},
      "source": [
        "## `str.replace()`\n",
        "\n",
        "Die `replace()`-Methode ist besonders nützlich in der Systemadministration, um Textersetzungen in Konfigurationsdateien oder Logdateien vorzunehmen."
      ]
    },
    {
      "cell_type": "code",
      "execution_count": null,
      "metadata": {},
      "outputs": [],
      "source": [
        "help(str.replace)"
      ]
    },
    {
      "cell_type": "code",
      "execution_count": null,
      "metadata": {},
      "outputs": [],
      "source": [
        "konfiguration = \"server_ip = 192.168.1.100\"\n",
        "neue_konfiguration = konfiguration.replace(\"192.168.1.100\", \"10.0.0.1\") # Ersetzt den alten Wert durch den neuen Wert\n",
        "print(f\"Alte Konfiguration: {konfiguration}\") # Gibt die alte Konfiguration aus\n",
        "print(f\"Neue Konfiguration: {neue_konfiguration}\") # Gibt die neue Konfiguration aus"
      ]
    },
    {
      "cell_type": "markdown",
      "metadata": {},
      "source": [
        "## f-strings\n",
        "\n",
        "F-Strings sind sehr nützlich in der Systemadministration, um dynamische Werte in Strings einzufügen, z.B. für Logmeldungen oder Konfigurationsdateien."
      ]
    },
    {
      "cell_type": "code",
      "execution_count": 9,
      "metadata": {},
      "outputs": [
        {
          "name": "stdout",
          "output_type": "stream",
          "text": [
            "Server webserver01 (IP: 192.168.1.10)\n",
            "CPU-Auslastung: 75.5%\n",
            "RAM-Nutzung: 8.2%\n",
            "Status: OK\n"
          ]
        }
      ],
      "source": [
        "hostname = \"webserver01\"\n",
        "ip_adresse = \"192.168.1.10\"\n",
        "cpu_auslastung = 75.5\n",
        "ram_nutzung = 8.2\n",
        "print(f\"Server {hostname} (IP: {ip_adresse})\")\n",
        "print(f\"CPU-Auslastung: {cpu_auslastung}%\")\n",
        "print(f\"RAM-Nutzung: {ram_nutzung}%\")\n",
        "print(f\"Status: {'OK' if cpu_auslastung < 80 and ram_nutzung < 90 else 'KRITISCH'}\")"
      ]
    },
    {
      "cell_type": "markdown",
      "metadata": {},
      "source": [
        "### Alternative Formatierungsmethoden\n",
        "\n",
        "Neben f-strings gibt es noch andere Möglichkeiten zur String-Formatierung in Python."
      ]
    },
    {
      "cell_type": "markdown",
      "metadata": {},
      "source": [
        "## `.format()` Methode und `%-Formatierung`\n",
        "\n",
        "Die `.format()` Methode ist eine weitere Möglichkeit zur String-Formatierung in Python. Sie bietet eine flexible und lesbare Art, Werte in Strings einzufügen.\n",
        "\n",
        "Die `%-Formatierung` ist veraltet, aber in der Systemadministration noch häufig verwendet"
      ]
    },
    {
      "cell_type": "code",
      "execution_count": null,
      "metadata": {},
      "outputs": [],
      "source": [
        "print(\"Server {} (IP: {})\".format(hostname, ip_adresse))\n",
        "print(\"CPU-Auslastung: {:.1f}%\".format(cpu_auslastung))\n",
        "print(\"RAM-Nutzung: {:.1f} GB\".format(ram_nutzung))\n",
        "\n",
        "\n",
        "print(\"Server %s (IP: %s)\" % (hostname, ip_adresse))\n",
        "print(\"CPU-Auslastung: %.1f%%\" % cpu_auslastung)\n",
        "print(\"RAM-Nutzung: %.1f GB\" % ram_nutzung)"
      ]
    },
    {
      "cell_type": "markdown",
      "metadata": {},
      "source": [
        "## `str.join()`\n",
        "\n",
        "Die `join()`-Methode ist besonders nützlich in der Systemadministration, um Listen von Strings zu einem einzelnen String zusammenzufügen, z.B. bei der Erstellung von Kommandozeilenargumenten oder Pfaden."
      ]
    },
    {
      "cell_type": "code",
      "execution_count": null,
      "metadata": {},
      "outputs": [],
      "source": [
        "log_dateien = [\"system.log\", \"apache_access.log\", \"mysql_error.log\"]\n",
        "zu_analysierende_logs = \" \".join(log_dateien)\n",
        "print(f\"grep 'ERROR' {zu_analysierende_logs}\")"
      ]
    },
    {
      "cell_type": "markdown",
      "metadata": {},
      "source": [
        "## `str.upper(), str.lower(), str.title()`\n",
        "\n",
        "Diese Methoden sind in der Systemadministration nützlich für die Formatierung von Texten, z.B. bei der Vereinheitlichung von Benutzereingaben oder der Formatierung von Ausgaben."
      ]
    },
    {
      "cell_type": "code",
      "execution_count": null,
      "metadata": {},
      "outputs": [],
      "source": [
        "benutzer_eingabe = \"AkTiViErEn\"\n",
        "print(f\"Ursprüngliche Eingabe: {benutzer_eingabe}\")\n",
        "print(f\"Großbuchstaben: {benutzer_eingabe.upper()}\")\n",
        "print(f\"Kleinbuchstaben: {benutzer_eingabe.lower()}\")\n",
        "print(f\"Titel-Format: {benutzer_eingabe.title()}\")"
      ]
    },
    {
      "cell_type": "markdown",
      "metadata": {},
      "source": [
        "## `str.strip()`\n",
        "\n",
        "Die `strip()`-Methode ist besonders nützlich in der Systemadministration, um unerwünschte Leerzeichen oder Zeilenumbrüche aus Eingaben oder Dateiinhalten zu entfernen."
      ]
    },
    {
      "cell_type": "code",
      "execution_count": null,
      "metadata": {},
      "outputs": [],
      "source": [
        "log_zeile = \" \\n \\t 2023-05-15 10:30:15 ERROR: Festplatte voll \\n\"\n",
        "bereinigt = log_zeile.strip()\n",
        "print(f\"Original: {repr(log_zeile)}\")\n",
        "print(f\"Bereinigt: {repr(bereinigt)}\")"
      ]
    },
    {
      "cell_type": "markdown",
      "metadata": {},
      "source": [
        "## `str.split()`\n",
        "\n",
        "Die `split()`-Methode ist in der Systemadministration sehr nützlich, um Strings in Listen aufzuteilen, z.B. bei der Verarbeitung von Logdateien oder Kommandozeilenausgaben."
      ]
    },
    {
      "cell_type": "code",
      "execution_count": null,
      "metadata": {},
      "outputs": [],
      "source": [
        "prozess_info = \"apache2 1234 www-data 0.5 5.2 10:30:15\"\n",
        "felder = prozess_info.split() # Splitet den String anhand des Leerzeichens und gibt eine Liste von Strings zurück\n",
        "print(f\"Prozessname: {felder[0]}\") # Gibt den ersten Wert der Liste aus\n",
        "print(f\"PID: {felder[1]}\") # Gibt den zweiten Wert der Liste aus\n",
        "print(f\"Benutzer: {felder[2]}\") # Gibt den dritten Wert der Liste aus\n",
        "print(f\"CPU-Nutzung: {felder[3]}%\") # Gibt den vierten Wert der Liste aus\n",
        "print(f\"Speichernutzung: {felder[4]}%\") # Gibt den fünften Wert der Liste aus\n",
        "print(f\"Startzeit: {felder[5]}\") # Gibt den sechsten Wert der Liste aus"
      ]
    },
    {
      "cell_type": "markdown",
      "metadata": {},
      "source": [
        "## `str.startswith()` und `str.endswith()`, \n",
        "\n",
        "Die `str.startswith()`-Methode ist in der Systemadministration nützlich, um zu überprüfen, ob ein String mit einem bestimmten Präfix beginnt. Dies kann bei der Filterung von Logdateien, der Überprüfung von Dateinamen oder der Validierung von Benutzereingaben hilfreich sein.\n",
        "\n",
        "Die `str.endswith()`-Methode ist in der Systemadministration nützlich, um zu überprüfen, ob ein String mit einem bestimmten Suffix endet. Dies kann ebenfalls bei der Filterung von Logdateien, der Überprüfung von Dateiendungen oder der Validierung von Benutzereingaben hilfreich sein."
      ]
    },
    {
      "cell_type": "code",
      "execution_count": 10,
      "metadata": {},
      "outputs": [
        {
          "name": "stdout",
          "output_type": "stream",
          "text": [
            "Beginnt mit 'server_log': True\n",
            "Endet mit '.txt': True\n"
          ]
        }
      ],
      "source": [
        "dateiname = \"server_log_2024.txt\"\n",
        "print(f\"Beginnt mit 'server_log': {dateiname.startswith('server_log')}\") # Prüft ob der String mit \"server_log\" beginnt\n",
        "print(f\"Endet mit '.txt': {dateiname.endswith('.txt')}\") # Prüft ob der String mit \".txt\" endet\n"
      ]
    },
    {
      "cell_type": "markdown",
      "metadata": {},
      "source": [
        "## `str.find()`\n",
        "\n",
        "Die `find()`-Methode ist in der Systemadministration sehr nützlich, um die Position eines Substrings in einem String zu finden. Dies kann bei der Analyse von Logdateien, der Extraktion von Informationen aus strukturierten Texten oder der Verarbeitung von Konfigurationsdateien hilfreich sein."
      ]
    },
    {
      "cell_type": "code",
      "execution_count": 6,
      "metadata": {},
      "outputs": [
        {
          "name": "stdout",
          "output_type": "stream",
          "text": [
            "Fehlermeldung gefunden an Position: 20\n",
            "Fehlernachricht: Festplatte voll\n",
            "Zeitstempel: 2023-05-15\n",
            "Position von 'WARNING': -1\n"
          ]
        }
      ],
      "source": [
        "log_eintrag = \"2023-05-15 10:30:15 ERROR: Festplatte voll\"\n",
        "fehler_position = log_eintrag.find(\"ERROR\")\n",
        "if fehler_position != -1:\n",
        "    print(f\"Fehlermeldung gefunden an Position: {fehler_position}\")\n",
        "    fehler_nachricht = log_eintrag[fehler_position + 7:]  # +7 um \"ERROR: \" zu überspringen\n",
        "    print(f\"Fehlernachricht: {fehler_nachricht}\")\n",
        "else:\n",
        "    print(\"Keine Fehlermeldung gefunden\")\n",
        "\n",
        "# Beispiel für die Verwendung von find() mit einem Startindex\n",
        "zeitstempel_ende = log_eintrag.find(\" \", 10)  # Suche nach dem ersten Leerzeichen ab Position 10\n",
        "if zeitstempel_ende != -1:\n",
        "    zeitstempel = log_eintrag[:zeitstempel_ende]\n",
        "    print(f\"Zeitstempel: {zeitstempel}\")\n",
        "\n",
        "# Beispiel für die Verwendung von find(), wenn der Substring nicht gefunden wird\n",
        "nicht_vorhanden = log_eintrag.find(\"WARNING\")\n",
        "print(f\"Position von 'WARNING': {nicht_vorhanden}\")  # Gibt -1 aus, da 'WARNING' nicht im String vorkommt\n"
      ]
    },
    {
      "cell_type": "markdown",
      "metadata": {},
      "source": [
        "## Verkettung mehrerer Methoden\n",
        "\n",
        "In der Systemadministration ist es oft nützlich, mehrere String-Methoden hintereinander aufzurufen, um Daten effizient zu verarbeiten."
      ]
    },
    {
      "cell_type": "code",
      "execution_count": 11,
      "metadata": {},
      "outputs": [
        {
          "name": "stdout",
          "output_type": "stream",
          "text": [
            "Original:    [WARNUNG] Festplattenplatz niedrig (10% frei)   \n",
            "Bereinigt: [KRITISCH] festplattenplatz niedrig (10% frei)\n"
          ]
        }
      ],
      "source": [
        "log_eintrag = \"   [WARNUNG] Festplattenplatz niedrig (10% frei)   \"\n",
        "bereinigter_eintrag = log_eintrag.strip().lower().replace(\"warnung\", \"KRITISCH\")\n",
        "print(f\"Original: {log_eintrag}\")\n",
        "print(f\"Bereinigt: {bereinigter_eintrag}\")"
      ]
    },
    {
      "cell_type": "markdown",
      "metadata": {},
      "source": [
        "## [Escape-Zeichen](https://docs.python.org/3/reference/lexical_analysis.html#string-and-bytes-literals)\n",
        "\n",
        "Escape-Zeichen sind in der Systemadministration wichtig, um spezielle Zeichen in Strings darzustellen, z.B. in Skripten oder Konfigurationsdateien."
      ]
    },
    {
      "cell_type": "code",
      "execution_count": 12,
      "metadata": {},
      "outputs": [
        {
          "name": "stdout",
          "output_type": "stream",
          "text": [
            "Windows-Pfad: C:\\Users\\Admin\\Scripts\n",
            "Mehrzeiliger Text:\n",
            "Erste Zeile\n",
            "Zweite Zeile\n",
            "Dritte Zeile\n",
            "Hier ist eine Liste von häufig verwendeten Escape-Zeichen in Python mit Erklärungen:\n",
            "- \\n: Zeilenumbruch (new line) - Beginnt eine neue Zeile\n",
            "- \\t: Tabulator - Fügt einen horizontalen Tabulator ein\n",
            "- \\r: Wagenrücklauf (carriage return) - Setzt den Cursor an den Anfang der aktuellen Zeile\n",
            "- \\b: Backspace - Löscht das vorherige Zeichen\n",
            "- \\f: Seitenvorschub (form feed) - Beginnt eine neue Seite (in Druckern oder Textverarbeitungen)\n",
            "- \\': Einzelnes Anführungszeichen - Ermöglicht die Verwendung in Strings mit einfachen Anführungszeichen\n",
            "- \\\": Doppeltes Anführungszeichen - Ermöglicht die Verwendung in Strings mit doppelten Anführungszeichen\n",
            "- \\\\: Backslash - Stellt einen Backslash im String dar\n",
            "- \\uXXXX: Unicode-Zeichen - Stellt ein Unicode-Zeichen mit dem 4-stelligen Hexadezimalcode XXXX dar\n",
            "- \\xXX: ASCII-Zeichen - Stellt ein ASCII-Zeichen mit dem 2-stelligen Hexadezimalcode XX dar\n",
            "\n",
            "Beispiele:\n",
            "Unicode-Herz: ❤\n",
            "Tab-getrennte\tWerte\n"
          ]
        }
      ],
      "source": [
        "pfad = \"C:\\\\Users\\\\Admin\\\\Scripts\"\n",
        "print(f\"Windows-Pfad: {pfad}\")\n",
        "\n",
        "mehrzeilig = \"Erste Zeile\\nZweite Zeile\\nDritte Zeile\"\n",
        "print(f\"Mehrzeiliger Text:\\n{mehrzeilig}\")\n",
        "\n",
        "escaped_string = (\"Hier ist eine Liste von häufig verwendeten Escape-Zeichen in Python mit Erklärungen:\\n\"\n",
        "                  \"- \\\\n: Zeilenumbruch (new line) - Beginnt eine neue Zeile\\n\"\n",
        "                  \"- \\\\t: Tabulator - Fügt einen horizontalen Tabulator ein\\n\"\n",
        "                  \"- \\\\r: Wagenrücklauf (carriage return) - Setzt den Cursor an den Anfang der aktuellen Zeile\\n\"\n",
        "                  \"- \\\\b: Backspace - Löscht das vorherige Zeichen\\n\"\n",
        "                  \"- \\\\f: Seitenvorschub (form feed) - Beginnt eine neue Seite (in Druckern oder Textverarbeitungen)\\n\"\n",
        "                  \"- \\\\': Einzelnes Anführungszeichen - Ermöglicht die Verwendung in Strings mit einfachen Anführungszeichen\\n\"\n",
        "                  \"- \\\\\\\": Doppeltes Anführungszeichen - Ermöglicht die Verwendung in Strings mit doppelten Anführungszeichen\\n\"\n",
        "                  \"- \\\\\\\\: Backslash - Stellt einen Backslash im String dar\\n\"\n",
        "                  \"- \\\\uXXXX: Unicode-Zeichen - Stellt ein Unicode-Zeichen mit dem 4-stelligen Hexadezimalcode XXXX dar\\n\"\n",
        "                  \"- \\\\xXX: ASCII-Zeichen - Stellt ein ASCII-Zeichen mit dem 2-stelligen Hexadezimalcode XX dar\")\n",
        "print(escaped_string)\n",
        "\n",
        "# Beispiele für die Anwendung einiger Escape-Zeichen\n",
        "print(\"\\nBeispiele:\")\n",
        "print(\"Unicode-Herz: \\u2764\")\n",
        "print(\"Tab-getrennte\\tWerte\")"
      ]
    },
    {
      "cell_type": "code",
      "execution_count": null,
      "metadata": {},
      "outputs": [],
      "source": []
    }
  ],
  "metadata": {
    "kernelspec": {
      "display_name": "Python 3",
      "language": "python",
      "name": "python3"
    },
    "language_info": {
      "codemirror_mode": {
        "name": "ipython",
        "version": 3
      },
      "file_extension": ".py",
      "mimetype": "text/x-python",
      "name": "python",
      "nbconvert_exporter": "python",
      "pygments_lexer": "ipython3",
      "version": "3.12.5"
    }
  },
  "nbformat": 4,
  "nbformat_minor": 4
}
